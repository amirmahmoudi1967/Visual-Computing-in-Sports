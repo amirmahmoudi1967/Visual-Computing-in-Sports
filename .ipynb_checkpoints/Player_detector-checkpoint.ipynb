{
 "cells": [
  {
   "cell_type": "markdown",
   "id": "456a9703",
   "metadata": {},
   "source": [
    "## HOG + SVM Player detector\n",
    "**This notebook aims to create a model to detect players**"
   ]
  },
  {
   "cell_type": "code",
   "execution_count": 1,
   "id": "687f6483",
   "metadata": {},
   "outputs": [
    {
     "data": {
      "text/plain": [
       "{'divide': 'warn', 'over': 'warn', 'under': 'ignore', 'invalid': 'warn'}"
      ]
     },
     "execution_count": 1,
     "metadata": {},
     "output_type": "execute_result"
    }
   ],
   "source": [
    "import numpy as np\n",
    "import matplotlib.pyplot as plt \n",
    "import cv2\n",
    "import os\n",
    "from glob import glob\n",
    "import scipy.io\n",
    "import pandas as pd\n",
    "np.seterr(invalid='ignore')"
   ]
  },
  {
   "cell_type": "markdown",
   "id": "ec5405e3",
   "metadata": {},
   "source": [
    "**1. Get the dataset**"
   ]
  },
  {
   "cell_type": "code",
   "execution_count": 2,
   "id": "8539a3a9",
   "metadata": {},
   "outputs": [],
   "source": [
    "#FIXME : Put it in a util.py file\n",
    "def get_image_paths(data_path, fmt='jpg'):\n",
    "    \"\"\"\n",
    "    This function returns lists containing the file path for each train \n",
    "    image, as well as lists with the label of each train image.\n",
    "    :param data_path: path to the 'train' directories\n",
    "    :param fmt: file extension of the images\n",
    "    :return: lists: train_image_paths, train_labels\n",
    "    \"\"\"\n",
    "    train_image_paths = []\n",
    "    train_labels = []\n",
    "\n",
    "    # train\n",
    "    pth = os.path.join(data_path, '*.{:s}'.format(fmt))\n",
    "    pth = glob(pth)\n",
    "    train_image_paths.extend(pth)\n",
    "\n",
    "    return train_image_paths\n",
    "\n",
    "train_image_paths = get_image_paths(\"./dataset/DataSet_001\")"
   ]
  },
  {
   "cell_type": "code",
   "execution_count": 3,
   "id": "145781ca",
   "metadata": {},
   "outputs": [],
   "source": [
    "#Now we get the labels \n",
    "mat_1 = scipy.io.loadmat('./dataset/annotation_1.mat')['annot'].flatten()"
   ]
  },
  {
   "cell_type": "code",
   "execution_count": 4,
   "id": "79d4c259",
   "metadata": {},
   "outputs": [],
   "source": [
    "df_ground_truth = pd.DataFrame(mat_1)"
   ]
  },
  {
   "cell_type": "code",
   "execution_count": 5,
   "id": "bbb367cc",
   "metadata": {},
   "outputs": [],
   "source": [
    "#FIXME : Put it in a util.py file\n",
    "import os\n",
    "import numpy as np\n",
    "from matplotlib import pyplot as plt\n",
    "import matplotlib.patches as patches\n",
    "from skimage.io import imread\n",
    "from skimage.transform import resize\n",
    "\n",
    "H, W = 720, 1280\n",
    "N = len(df_ground_truth)\n",
    "\n",
    "def read_frame(train_image_paths, frame):\n",
    "    file_path = train_image_paths[frame]\n",
    "    img = cv2.imread(f\"./dataset/DataSet_001/{file_path[0]}\",cv2.IMREAD_GRAYSCALE)\n",
    "    img = resize(img, output_shape=(H,W))\n",
    "    return img\n",
    "\n",
    "def annotations_for_frame(df_annotation, frame):\n",
    "    assert frame in df_annotation.index\n",
    "    bbs = df_annotation[df_annotation.index == frame].values[0]\n",
    "    return bbs\n",
    "\n",
    "def show_annotation(df_annotation, frame):\n",
    "    img = read_frame(df_annotation['ImgName'], frame)\n",
    "    bbs = annotations_for_frame(df_annotation['BBox'], frame)\n",
    "    fig, ax = plt.subplots(figsize=(20, 12))\n",
    "    print(type(ax))\n",
    "    for x1, y1, x2, y2 in bbs:\n",
    "        dx = x2 - x1\n",
    "        dy = y2 - y1\n",
    "        rect = patches.Rectangle((x1, y1), dx, dy, edgecolor='r', facecolor='none')\n",
    "        ax.add_patch(rect)\n",
    "\n",
    "    ax.imshow(img)\n",
    "    ax.set_title('Annotations for frame {}.'.format(frame))\n",
    "\n",
    "def bounding_boxes_to_mask(bounding_boxes, H, W):\n",
    "    \n",
    "    \"\"\"\n",
    "    Converts set of bounding boxes to a binary mask\n",
    "    \"\"\"\n",
    "    mask = np.zeros((H, W))\n",
    "    for x1, y1, x2, y2 in bounding_boxes:\n",
    "        dx = x2 - x1\n",
    "        dy = y2 - y1\n",
    "        mask[y1:y2,x1:x2] = 1\n",
    "    return mask\n",
    "\n",
    "def run_length_encoding(mask):\n",
    "\n",
    "    \"\"\"\n",
    "    Produces run length encoding for a given binary mask\n",
    "    \"\"\"\n",
    "    \n",
    "    # find mask non-zeros in flattened representation\n",
    "    non_zeros = np.nonzero(mask.flatten())[0]\n",
    "    padded = np.pad(non_zeros, pad_width=1, mode='edge')\n",
    "    \n",
    "    # find start and end points of non-zeros runs\n",
    "    limits = (padded[1:] - padded[:-1]) != 1\n",
    "    starts = non_zeros[limits[:-1]]\n",
    "    ends = non_zeros[limits[1:]]\n",
    "    lengths = ends - starts + 1\n",
    "    \n",
    "    return ' '.join(['%d %d' % (s, l) for s, l in zip(starts, lengths)])"
   ]
  },
  {
   "cell_type": "markdown",
   "id": "4ff3d23b",
   "metadata": {},
   "source": [
    "**2. Show the dataset**"
   ]
  },
  {
   "cell_type": "code",
   "execution_count": 6,
   "id": "34a6807f",
   "metadata": {
    "scrolled": false
   },
   "outputs": [
    {
     "data": {
      "application/vnd.jupyter.widget-view+json": {
       "model_id": "e998f68efc0047999edf645410a4c80e",
       "version_major": 2,
       "version_minor": 0
      },
      "text/plain": [
       "interactive(children=(IntSlider(value=1, description='frame_id', max=1493, min=1), Output()), _dom_classes=('w…"
      ]
     },
     "metadata": {},
     "output_type": "display_data"
    },
    {
     "data": {
      "text/plain": [
       "<function __main__.f_display_frame(frame_id)>"
      ]
     },
     "execution_count": 6,
     "metadata": {},
     "output_type": "execute_result"
    }
   ],
   "source": [
    "from ipywidgets import interact, widgets\n",
    "from IPython.display import display\n",
    "\n",
    "def f_display_frame(frame_id):\n",
    "    show_annotation(df_ground_truth,frame_id)\n",
    "\n",
    "interact(f_display_frame, frame_id=widgets.IntSlider(min=1, max=1493, step=1, value=1))"
   ]
  },
  {
   "cell_type": "markdown",
   "id": "d014510f",
   "metadata": {},
   "source": [
    "**3. Create the HOG descriptor (preprocess)**"
   ]
  },
  {
   "cell_type": "code",
   "execution_count": 7,
   "id": "e5a2ff36",
   "metadata": {},
   "outputs": [
    {
     "data": {
      "text/plain": [
       "(1495, 2)"
      ]
     },
     "execution_count": 7,
     "metadata": {},
     "output_type": "execute_result"
    }
   ],
   "source": [
    "df_ground_truth.shape"
   ]
  },
  {
   "cell_type": "markdown",
   "id": "150e53e6",
   "metadata": {},
   "source": [
    "**3.1 Get the positive samples**"
   ]
  },
  {
   "cell_type": "code",
   "execution_count": 16,
   "id": "c766dac7",
   "metadata": {},
   "outputs": [],
   "source": [
    "from IPython.display import clear_output\n",
    "def getpos_sample(df_labels):\n",
    "    pos_samples = []\n",
    "    for i in range(0,1492):\n",
    "        all_pos = df_labels[df_labels.index == i].values[0]\n",
    "        path = df_labels[df_labels.index == i][\"ImgName\"].values[0]\n",
    "        \n",
    "        img = cv2.imread(f\"./dataset/DataSet_001/{path[0]}\")\n",
    "        img = resize(img, output_shape=(H,W,3))\n",
    "        \n",
    "        for pos in all_pos[0]:\n",
    "            cropped_img = np.array(img[int(pos[1]):int(pos[3]),int(pos[0]):int(pos[2])])\n",
    "            cropped_img = resize(cropped_img, output_shape=(128,64,3))\n",
    "            pos_samples.append(cropped_img) \n",
    "        clear_output(wait=True)\n",
    "        print(f\"{i}/{1492}\")\n",
    "        \n",
    "    return pos_samples\n"
   ]
  },
  {
   "cell_type": "code",
   "execution_count": 17,
   "id": "2c4f31aa",
   "metadata": {},
   "outputs": [
    {
     "name": "stdout",
     "output_type": "stream",
     "text": [
      "1491/1492\n"
     ]
    }
   ],
   "source": [
    "pos_samples = getpos_sample(df_ground_truth)"
   ]
  },
  {
   "cell_type": "code",
   "execution_count": 20,
   "id": "3d5ba82b",
   "metadata": {},
   "outputs": [
    {
     "data": {
      "text/plain": [
       "<matplotlib.image.AxesImage at 0x12c23ce20>"
      ]
     },
     "execution_count": 20,
     "metadata": {},
     "output_type": "execute_result"
    },
    {
     "data": {
      "image/png": "[encoded data removed]",
      "text/plain": [
       "<Figure size 432x288 with 1 Axes>"
      ]
     },
     "metadata": {
      "needs_background": "light"
     },
     "output_type": "display_data"
    }
   ],
   "source": [
    "plt.imshow(pos_samples[1000])"
   ]
  },
  {
   "cell_type": "markdown",
   "id": "61c7a27f",
   "metadata": {},
   "source": [
    "**3.2 Get the negative samples**\n",
    "To get the negative samples we take random crops of the dataset without players (from img nb 81 for exemple)"
   ]
  },
  {
   "cell_type": "code",
   "execution_count": 21,
   "id": "45019cb7",
   "metadata": {},
   "outputs": [],
   "source": [
    "import random\n",
    "def getneg_sample(df_labels):\n",
    "    neg_sample = []\n",
    "    random.seed(1)\n",
    "    for i in range(0,1492):\n",
    "        path = df_labels[df_labels.index == i][\"ImgName\"].values[0]\n",
    "        \n",
    "        img = cv2.imread(f\"./dataset/DataSet_001/{path[0]}\")\n",
    "        img = resize(img, output_shape=(H,W,3))\n",
    "        \n",
    "        y = int(random.random() * (H - 128))\n",
    "        x = int(random.random() * (W - 64))\n",
    "        \n",
    "        cropped_img = np.array(img[y:y + 128, x:x + 64])\n",
    "        neg_sample.append(cropped_img) \n",
    "        \n",
    "        clear_output(wait=True)\n",
    "        print(f\"{i}/{1492}\")\n",
    "    return np.array(neg_sample)\n",
    "    "
   ]
  },
  {
   "cell_type": "code",
   "execution_count": 22,
   "id": "d6a89724",
   "metadata": {
    "scrolled": true
   },
   "outputs": [
    {
     "name": "stdout",
     "output_type": "stream",
     "text": [
      "1491/1492\n"
     ]
    }
   ],
   "source": [
    "neg_samples = getneg_sample(df_ground_truth)"
   ]
  },
  {
   "cell_type": "code",
   "execution_count": 23,
   "id": "88135787",
   "metadata": {
    "scrolled": true
   },
   "outputs": [
    {
     "data": {
      "text/plain": [
       "<matplotlib.image.AxesImage at 0x12c61fac0>"
      ]
     },
     "execution_count": 23,
     "metadata": {},
     "output_type": "execute_result"
    },
    {
     "data": {
      "image/png": "[encoded data removed]",
      "text/plain": [
       "<Figure size 432x288 with 1 Axes>"
      ]
     },
     "metadata": {
      "needs_background": "light"
     },
     "output_type": "display_data"
    }
   ],
   "source": [
    "plt.imshow(neg_samples[100]) #Hoping rndom didn't select a player "
   ]
  },
  {
   "cell_type": "markdown",
   "id": "36f7ab99",
   "metadata": {},
   "source": [
    "**3.3 Now the HOG**"
   ]
  },
  {
   "cell_type": "code",
   "execution_count": 27,
   "id": "938cb91c",
   "metadata": {},
   "outputs": [],
   "source": [
    "#Calculate HOG features\n",
    "def getHOGList(imageList):\n",
    "    HOGList = []\n",
    "    hog = cv2.HOGDescriptor()\n",
    "    for i in range(0,len(imageList)):\n",
    "        '''file_path = train_image_paths[i]\n",
    "        img = cv2.imread(f\"{file_path}\")'''\n",
    "        print(imageList[i].shape)\n",
    "        gray = cv2.cvtColor(imageList[i], cv2.COLOR_BGR2GRAY)\n",
    "        HOGList.append(hog.compute(gray))\n",
    "        clear_output(wait=True)\n",
    "        print(f\"{i}/{len(imageList)}\")\n",
    "    return HOGList"
   ]
  },
  {
   "cell_type": "code",
   "execution_count": 28,
   "id": "b3d07b0d",
   "metadata": {},
   "outputs": [
    {
     "name": "stdout",
     "output_type": "stream",
     "text": [
      "(128, 64, 3)\n"
     ]
    },
    {
     "ename": "error",
     "evalue": "OpenCV(4.5.1) /private/var/folders/nz/vv4_9tw56nv9k3tkvyszvwg80000gn/T/pip-req-build-yaf6rry6/opencv/modules/imgproc/src/color.simd_helpers.hpp:94: error: (-2:Unspecified error) in function 'cv::impl::(anonymous namespace)::CvtHelper<cv::impl::(anonymous namespace)::Set<3, 4, -1>, cv::impl::(anonymous namespace)::Set<1, -1, -1>, cv::impl::(anonymous namespace)::Set<0, 2, 5>, cv::impl::(anonymous namespace)::SizePolicy::NONE>::CvtHelper(cv::InputArray, cv::OutputArray, int) [VScn = cv::impl::(anonymous namespace)::Set<3, 4, -1>, VDcn = cv::impl::(anonymous namespace)::Set<1, -1, -1>, VDepth = cv::impl::(anonymous namespace)::Set<0, 2, 5>, sizePolicy = cv::impl::(anonymous namespace)::SizePolicy::NONE]'\n> Unsupported depth of input image:\n>     'VDepth::contains(depth)'\n> where\n>     'depth' is 6 (CV_64F)\n",
     "output_type": "error",
     "traceback": [
      "\u001b[0;31m---------------------------------------------------------------------------\u001b[0m",
      "\u001b[0;31merror\u001b[0m                                     Traceback (most recent call last)",
      "\u001b[0;32m/var/folders/03/6pjflc5d0qz_wv3xh3hj7rbr0000gn/T/ipykernel_1743/576511607.py\u001b[0m in \u001b[0;36m<module>\u001b[0;34m\u001b[0m\n\u001b[1;32m      1\u001b[0m \u001b[0;31m#Get the HOG of the positive sample\u001b[0m\u001b[0;34m\u001b[0m\u001b[0;34m\u001b[0m\u001b[0;34m\u001b[0m\u001b[0m\n\u001b[0;32m----> 2\u001b[0;31m \u001b[0mpositiv_HOG\u001b[0m \u001b[0;34m=\u001b[0m \u001b[0mgetHOGList\u001b[0m\u001b[0;34m(\u001b[0m\u001b[0mpos_samples\u001b[0m\u001b[0;34m[\u001b[0m\u001b[0;34m:\u001b[0m\u001b[0;36m100\u001b[0m\u001b[0;34m]\u001b[0m\u001b[0;34m)\u001b[0m\u001b[0;34m\u001b[0m\u001b[0;34m\u001b[0m\u001b[0m\n\u001b[0m\u001b[1;32m      3\u001b[0m \u001b[0mprint\u001b[0m \u001b[0;34m(\u001b[0m\u001b[0;34m\"positiv_HOG\"\u001b[0m\u001b[0;34m,\u001b[0m \u001b[0mlen\u001b[0m\u001b[0;34m(\u001b[0m\u001b[0mpositiv_HOG\u001b[0m\u001b[0;34m)\u001b[0m\u001b[0;34m)\u001b[0m\u001b[0;34m\u001b[0m\u001b[0;34m\u001b[0m\u001b[0m\n",
      "\u001b[0;32m/var/folders/03/6pjflc5d0qz_wv3xh3hj7rbr0000gn/T/ipykernel_1743/3154724150.py\u001b[0m in \u001b[0;36mgetHOGList\u001b[0;34m(imageList)\u001b[0m\n\u001b[1;32m      7\u001b[0m         img = cv2.imread(f\"{file_path}\")'''\n\u001b[1;32m      8\u001b[0m         \u001b[0mprint\u001b[0m\u001b[0;34m(\u001b[0m\u001b[0mimageList\u001b[0m\u001b[0;34m[\u001b[0m\u001b[0mi\u001b[0m\u001b[0;34m]\u001b[0m\u001b[0;34m.\u001b[0m\u001b[0mshape\u001b[0m\u001b[0;34m)\u001b[0m\u001b[0;34m\u001b[0m\u001b[0;34m\u001b[0m\u001b[0m\n\u001b[0;32m----> 9\u001b[0;31m         \u001b[0mgray\u001b[0m \u001b[0;34m=\u001b[0m \u001b[0mcv2\u001b[0m\u001b[0;34m.\u001b[0m\u001b[0mcvtColor\u001b[0m\u001b[0;34m(\u001b[0m\u001b[0mimageList\u001b[0m\u001b[0;34m[\u001b[0m\u001b[0mi\u001b[0m\u001b[0;34m]\u001b[0m\u001b[0;34m,\u001b[0m \u001b[0mcv2\u001b[0m\u001b[0;34m.\u001b[0m\u001b[0mCOLOR_BGR2GRAY\u001b[0m\u001b[0;34m)\u001b[0m\u001b[0;34m\u001b[0m\u001b[0;34m\u001b[0m\u001b[0m\n\u001b[0m\u001b[1;32m     10\u001b[0m         \u001b[0mHOGList\u001b[0m\u001b[0;34m.\u001b[0m\u001b[0mappend\u001b[0m\u001b[0;34m(\u001b[0m\u001b[0mhog\u001b[0m\u001b[0;34m.\u001b[0m\u001b[0mcompute\u001b[0m\u001b[0;34m(\u001b[0m\u001b[0mgray\u001b[0m\u001b[0;34m)\u001b[0m\u001b[0;34m)\u001b[0m\u001b[0;34m\u001b[0m\u001b[0;34m\u001b[0m\u001b[0m\n\u001b[1;32m     11\u001b[0m         \u001b[0mclear_output\u001b[0m\u001b[0;34m(\u001b[0m\u001b[0mwait\u001b[0m\u001b[0;34m=\u001b[0m\u001b[0;32mTrue\u001b[0m\u001b[0;34m)\u001b[0m\u001b[0;34m\u001b[0m\u001b[0;34m\u001b[0m\u001b[0m\n",
      "\u001b[0;31merror\u001b[0m: OpenCV(4.5.1) /private/var/folders/nz/vv4_9tw56nv9k3tkvyszvwg80000gn/T/pip-req-build-yaf6rry6/opencv/modules/imgproc/src/color.simd_helpers.hpp:94: error: (-2:Unspecified error) in function 'cv::impl::(anonymous namespace)::CvtHelper<cv::impl::(anonymous namespace)::Set<3, 4, -1>, cv::impl::(anonymous namespace)::Set<1, -1, -1>, cv::impl::(anonymous namespace)::Set<0, 2, 5>, cv::impl::(anonymous namespace)::SizePolicy::NONE>::CvtHelper(cv::InputArray, cv::OutputArray, int) [VScn = cv::impl::(anonymous namespace)::Set<3, 4, -1>, VDcn = cv::impl::(anonymous namespace)::Set<1, -1, -1>, VDepth = cv::impl::(anonymous namespace)::Set<0, 2, 5>, sizePolicy = cv::impl::(anonymous namespace)::SizePolicy::NONE]'\n> Unsupported depth of input image:\n>     'VDepth::contains(depth)'\n> where\n>     'depth' is 6 (CV_64F)\n"
     ]
    }
   ],
   "source": [
    "#Get the HOG of the positive sample\n",
    "positiv_HOG = getHOGList(pos_samples[:100])\n",
    "print (\"positiv_HOG\", len(positiv_HOG))"
   ]
  },
  {
   "cell_type": "code",
   "execution_count": 77,
   "id": "2a506689",
   "metadata": {},
   "outputs": [],
   "source": [
    "#Add the label corresponding to all positive samples\n",
    "labels = []\n",
    "for _ in range(len(positiv_HOG)):\n",
    "    labels.append(+1)"
   ]
  },
  {
   "cell_type": "code",
   "execution_count": 94,
   "id": "9afaa529",
   "metadata": {
    "scrolled": false
   },
   "outputs": [
    {
     "data": {
      "text/plain": [
       "43375500"
      ]
     },
     "execution_count": 94,
     "metadata": {},
     "output_type": "execute_result"
    }
   ],
   "source": [
    "np.arrpositiv_HOG #BIZARRE"
   ]
  },
  {
   "cell_type": "code",
   "execution_count": 79,
   "id": "e3ed4fa9",
   "metadata": {},
   "outputs": [
    {
     "name": "stdout",
     "output_type": "stream",
     "text": [
      "99/100\n",
      "negativ_HOG 100\n"
     ]
    }
   ],
   "source": [
    "#Get the hog for the neg samples\n",
    "negativ_HOG = getHOGList(neg_samples[:100])\n",
    "print (\"negativ_HOG\", len(negativ_HOG))"
   ]
  },
  {
   "cell_type": "code",
   "execution_count": 80,
   "id": "97f5343f",
   "metadata": {},
   "outputs": [],
   "source": [
    "#concat pos and neg samples\n",
    "hog_set = positiv_HOG\n",
    "hog_set.extend(negativ_HOG)"
   ]
  },
  {
   "cell_type": "code",
   "execution_count": 81,
   "id": "d1fc774e",
   "metadata": {},
   "outputs": [
    {
     "data": {
      "text/plain": [
       "200"
      ]
     },
     "execution_count": 81,
     "metadata": {},
     "output_type": "execute_result"
    }
   ],
   "source": [
    "len(hog_set)"
   ]
  },
  {
   "cell_type": "code",
   "execution_count": 82,
   "id": "5dd3ac7b",
   "metadata": {},
   "outputs": [],
   "source": [
    "for _ in range(len(negativ_HOG)):\n",
    "    labels.append(-1)"
   ]
  },
  {
   "cell_type": "markdown",
   "id": "a60fa79e",
   "metadata": {},
   "source": [
    "**4. Let's create the SVM classifier**"
   ]
  },
  {
   "cell_type": "code",
   "execution_count": 83,
   "id": "74e3336c",
   "metadata": {},
   "outputs": [],
   "source": [
    "#Get detector\n",
    "def getHOGDetector(svm):\n",
    "    sv = svm.getSupportVectors()\n",
    "    rho, _, _ = svm.getDecisionFunction(0)\n",
    "    sv = np.transpose(sv)\n",
    "    return np.append(sv, [[-rho]], 0)"
   ]
  },
  {
   "cell_type": "code",
   "execution_count": 84,
   "id": "75d695ad",
   "metadata": {},
   "outputs": [
    {
     "data": {
      "text/plain": [
       "True"
      ]
     },
     "execution_count": 84,
     "metadata": {},
     "output_type": "execute_result"
    }
   ],
   "source": [
    "#FIXME : maybe try the svm from sklearn ..\n",
    "#We create a first classifier\n",
    "svm = cv2.ml.SVM_create()\n",
    "\n",
    "svm.setCoef0(0.0)\n",
    "svm.setDegree(3)\n",
    "criteria = (cv2.TERM_CRITERIA_MAX_ITER + cv2.TERM_CRITERIA_EPS, 1000, 1e-3)#Termination condition\n",
    "svm.setTermCriteria(criteria)\n",
    "svm.setGamma(0)\n",
    "svm.setKernel(cv2.ml.SVM_LINEAR)\n",
    "svm.setNu(0.5)\n",
    "svm.setP(0.1)  # for EPSILON_SVR, epsilon in loss function?\n",
    "svm.setC(0.01)  # From paper, soft classifier \n",
    "svm.setType(cv2.ml.SVM_EPS_SVR)  # C_SVC # EPSILON_SVR # may be also NU_SVR # do regression task\n",
    "\n",
    "svm.train(np.array(hog_set), cv2.ml.ROW_SAMPLE, np.array(labels))"
   ]
  },
  {
   "cell_type": "code",
   "execution_count": 90,
   "id": "07cff89b",
   "metadata": {},
   "outputs": [
    {
     "data": {
      "text/plain": [
       "<ml_SVM 0x12fa1a7d0>"
      ]
     },
     "execution_count": 90,
     "metadata": {},
     "output_type": "execute_result"
    }
   ],
   "source": [
    "svm"
   ]
  },
  {
   "cell_type": "code",
   "execution_count": 88,
   "id": "d9e8d2a8",
   "metadata": {},
   "outputs": [],
   "source": [
    "'''#Get Hard example\n",
    "def getHardExamples(negImageList, svm):\n",
    "    hardNegList = []\n",
    "    hog = cv2.HOGDescriptor()\n",
    "    hog.setSVMDetector(getHOGDetector(svm))\n",
    "    for i in range(len(negImageList)):\n",
    "        rects, wei = hog.detectMultiScale(negImageList[i], winStride=(4, 4),padding=(8, 8), scale=1.05)\n",
    "        for (x,y,w,h) in rects:\n",
    "            hardExample = negImageList[i][y:y+h, x:x+w]\n",
    "            hardNegList.append(cv2.resize(hardExample,(64,128)))\n",
    "    return hardNegList'''"
   ]
  },
  {
   "cell_type": "code",
   "execution_count": 89,
   "id": "cca411a0",
   "metadata": {},
   "outputs": [
    {
     "ename": "error",
     "evalue": "OpenCV(4.5.1) /private/var/folders/nz/vv4_9tw56nv9k3tkvyszvwg80000gn/T/pip-req-build-yaf6rry6/opencv/modules/objdetect/src/hog.cpp:121: error: (-215:Assertion failed) checkDetectorSize() in function 'setSVMDetector'\n",
     "output_type": "error",
     "traceback": [
      "\u001b[0;31m---------------------------------------------------------------------------\u001b[0m",
      "\u001b[0;31merror\u001b[0m                                     Traceback (most recent call last)",
      "\u001b[0;32m/var/folders/03/6pjflc5d0qz_wv3xh3hj7rbr0000gn/T/ipykernel_860/1119786887.py\u001b[0m in \u001b[0;36m<module>\u001b[0;34m\u001b[0m\n\u001b[1;32m      1\u001b[0m \u001b[0;31m#Acquire hard example based on initial training results\u001b[0m\u001b[0;34m\u001b[0m\u001b[0;34m\u001b[0m\u001b[0;34m\u001b[0m\u001b[0m\n\u001b[0;32m----> 2\u001b[0;31m \u001b[0mhardNegList\u001b[0m \u001b[0;34m=\u001b[0m \u001b[0mgetHardExamples\u001b[0m\u001b[0;34m(\u001b[0m\u001b[0mneg_samples\u001b[0m\u001b[0;34m[\u001b[0m\u001b[0;34m:\u001b[0m\u001b[0;36m100\u001b[0m\u001b[0;34m]\u001b[0m\u001b[0;34m,\u001b[0m \u001b[0msvm\u001b[0m\u001b[0;34m)\u001b[0m\u001b[0;34m\u001b[0m\u001b[0;34m\u001b[0m\u001b[0m\n\u001b[0m\u001b[1;32m      3\u001b[0m \u001b[0mhosList\u001b[0m\u001b[0;34m.\u001b[0m\u001b[0mextend\u001b[0m\u001b[0;34m(\u001b[0m\u001b[0mgetHOGList\u001b[0m\u001b[0;34m(\u001b[0m\u001b[0mhardNegList\u001b[0m\u001b[0;34m)\u001b[0m\u001b[0;34m)\u001b[0m\u001b[0;34m\u001b[0m\u001b[0;34m\u001b[0m\u001b[0m\n\u001b[1;32m      4\u001b[0m \u001b[0mprint\u001b[0m \u001b[0;34m(\u001b[0m\u001b[0;34m\"hosList=====\"\u001b[0m\u001b[0;34m,\u001b[0m \u001b[0mlen\u001b[0m\u001b[0;34m(\u001b[0m\u001b[0mhosList\u001b[0m\u001b[0;34m)\u001b[0m\u001b[0;34m)\u001b[0m\u001b[0;34m\u001b[0m\u001b[0;34m\u001b[0m\u001b[0m\n\u001b[1;32m      5\u001b[0m \u001b[0;34m[\u001b[0m\u001b[0mlabels\u001b[0m\u001b[0;34m.\u001b[0m\u001b[0mappend\u001b[0m\u001b[0;34m(\u001b[0m\u001b[0;34m-\u001b[0m\u001b[0;36m1\u001b[0m\u001b[0;34m)\u001b[0m \u001b[0;32mfor\u001b[0m \u001b[0m_\u001b[0m \u001b[0;32min\u001b[0m \u001b[0mrange\u001b[0m\u001b[0;34m(\u001b[0m\u001b[0mlen\u001b[0m\u001b[0;34m(\u001b[0m\u001b[0mhardNegList\u001b[0m\u001b[0;34m)\u001b[0m\u001b[0;34m)\u001b[0m\u001b[0;34m]\u001b[0m\u001b[0;34m\u001b[0m\u001b[0;34m\u001b[0m\u001b[0m\n",
      "\u001b[0;32m/var/folders/03/6pjflc5d0qz_wv3xh3hj7rbr0000gn/T/ipykernel_860/1437709135.py\u001b[0m in \u001b[0;36mgetHardExamples\u001b[0;34m(negImageList, svm)\u001b[0m\n\u001b[1;32m      3\u001b[0m     \u001b[0mhardNegList\u001b[0m \u001b[0;34m=\u001b[0m \u001b[0;34m[\u001b[0m\u001b[0;34m]\u001b[0m\u001b[0;34m\u001b[0m\u001b[0;34m\u001b[0m\u001b[0m\n\u001b[1;32m      4\u001b[0m     \u001b[0mhog\u001b[0m \u001b[0;34m=\u001b[0m \u001b[0mcv2\u001b[0m\u001b[0;34m.\u001b[0m\u001b[0mHOGDescriptor\u001b[0m\u001b[0;34m(\u001b[0m\u001b[0;34m)\u001b[0m\u001b[0;34m\u001b[0m\u001b[0;34m\u001b[0m\u001b[0m\n\u001b[0;32m----> 5\u001b[0;31m     \u001b[0mhog\u001b[0m\u001b[0;34m.\u001b[0m\u001b[0msetSVMDetector\u001b[0m\u001b[0;34m(\u001b[0m\u001b[0mgetHOGDetector\u001b[0m\u001b[0;34m(\u001b[0m\u001b[0msvm\u001b[0m\u001b[0;34m)\u001b[0m\u001b[0;34m)\u001b[0m\u001b[0;34m\u001b[0m\u001b[0;34m\u001b[0m\u001b[0m\n\u001b[0m\u001b[1;32m      6\u001b[0m     \u001b[0;32mfor\u001b[0m \u001b[0mi\u001b[0m \u001b[0;32min\u001b[0m \u001b[0mrange\u001b[0m\u001b[0;34m(\u001b[0m\u001b[0mlen\u001b[0m\u001b[0;34m(\u001b[0m\u001b[0mnegImageList\u001b[0m\u001b[0;34m)\u001b[0m\u001b[0;34m)\u001b[0m\u001b[0;34m:\u001b[0m\u001b[0;34m\u001b[0m\u001b[0;34m\u001b[0m\u001b[0m\n\u001b[1;32m      7\u001b[0m         \u001b[0mrects\u001b[0m\u001b[0;34m,\u001b[0m \u001b[0mwei\u001b[0m \u001b[0;34m=\u001b[0m \u001b[0mhog\u001b[0m\u001b[0;34m.\u001b[0m\u001b[0mdetectMultiScale\u001b[0m\u001b[0;34m(\u001b[0m\u001b[0mnegImageList\u001b[0m\u001b[0;34m[\u001b[0m\u001b[0mi\u001b[0m\u001b[0;34m]\u001b[0m\u001b[0;34m,\u001b[0m \u001b[0mwinStride\u001b[0m\u001b[0;34m=\u001b[0m\u001b[0;34m(\u001b[0m\u001b[0;36m4\u001b[0m\u001b[0;34m,\u001b[0m \u001b[0;36m4\u001b[0m\u001b[0;34m)\u001b[0m\u001b[0;34m,\u001b[0m\u001b[0mpadding\u001b[0m\u001b[0;34m=\u001b[0m\u001b[0;34m(\u001b[0m\u001b[0;36m8\u001b[0m\u001b[0;34m,\u001b[0m \u001b[0;36m8\u001b[0m\u001b[0;34m)\u001b[0m\u001b[0;34m,\u001b[0m \u001b[0mscale\u001b[0m\u001b[0;34m=\u001b[0m\u001b[0;36m1.05\u001b[0m\u001b[0;34m)\u001b[0m\u001b[0;34m\u001b[0m\u001b[0;34m\u001b[0m\u001b[0m\n",
      "\u001b[0;31merror\u001b[0m: OpenCV(4.5.1) /private/var/folders/nz/vv4_9tw56nv9k3tkvyszvwg80000gn/T/pip-req-build-yaf6rry6/opencv/modules/objdetect/src/hog.cpp:121: error: (-215:Assertion failed) checkDetectorSize() in function 'setSVMDetector'\n"
     ]
    }
   ],
   "source": [
    "'''#Acquire hard example based on initial training results\n",
    "hardNegList = getHardExamples(neg_samples[:100], svm)\n",
    "hosList.extend(getHOGList(hardNegList))\n",
    "print (\"hosList=====\", len(hosList))\n",
    "[labels.append(-1) for _ in range(len(hardNegList))]'''"
   ]
  },
  {
   "cell_type": "code",
   "execution_count": 91,
   "id": "8dcb0607",
   "metadata": {},
   "outputs": [
    {
     "ename": "error",
     "evalue": "OpenCV(4.5.1) /private/var/folders/nz/vv4_9tw56nv9k3tkvyszvwg80000gn/T/pip-req-build-yaf6rry6/opencv/modules/objdetect/src/hog.cpp:121: error: (-215:Assertion failed) checkDetectorSize() in function 'setSVMDetector'\n",
     "output_type": "error",
     "traceback": [
      "\u001b[0;31m---------------------------------------------------------------------------\u001b[0m",
      "\u001b[0;31merror\u001b[0m                                     Traceback (most recent call last)",
      "\u001b[0;32m/var/folders/03/6pjflc5d0qz_wv3xh3hj7rbr0000gn/T/ipykernel_860/3660343762.py\u001b[0m in \u001b[0;36m<module>\u001b[0;34m\u001b[0m\n\u001b[1;32m      4\u001b[0m \u001b[0;31m#Save model\u001b[0m\u001b[0;34m\u001b[0m\u001b[0;34m\u001b[0m\u001b[0;34m\u001b[0m\u001b[0m\n\u001b[1;32m      5\u001b[0m \u001b[0mhog\u001b[0m \u001b[0;34m=\u001b[0m \u001b[0mcv2\u001b[0m\u001b[0;34m.\u001b[0m\u001b[0mHOGDescriptor\u001b[0m\u001b[0;34m(\u001b[0m\u001b[0;34m)\u001b[0m\u001b[0;34m\u001b[0m\u001b[0;34m\u001b[0m\u001b[0m\n\u001b[0;32m----> 6\u001b[0;31m \u001b[0mhog\u001b[0m\u001b[0;34m.\u001b[0m\u001b[0msetSVMDetector\u001b[0m\u001b[0;34m(\u001b[0m\u001b[0mgetHOGDetector\u001b[0m\u001b[0;34m(\u001b[0m\u001b[0msvm\u001b[0m\u001b[0;34m)\u001b[0m\u001b[0;34m)\u001b[0m\u001b[0;34m\u001b[0m\u001b[0;34m\u001b[0m\u001b[0m\n\u001b[0m\u001b[1;32m      7\u001b[0m \u001b[0mhog\u001b[0m\u001b[0;34m.\u001b[0m\u001b[0msave\u001b[0m\u001b[0;34m(\u001b[0m\u001b[0;34m'myHogPlayerDector.bin'\u001b[0m\u001b[0;34m)\u001b[0m\u001b[0;34m\u001b[0m\u001b[0;34m\u001b[0m\u001b[0m\n",
      "\u001b[0;31merror\u001b[0m: OpenCV(4.5.1) /private/var/folders/nz/vv4_9tw56nv9k3tkvyszvwg80000gn/T/pip-req-build-yaf6rry6/opencv/modules/objdetect/src/hog.cpp:121: error: (-215:Assertion failed) checkDetectorSize() in function 'setSVMDetector'\n"
     ]
    }
   ],
   "source": [
    "#retrain with the hard exemple\n",
    "svm.train(np.array(hog_set), cv2.ml.ROW_SAMPLE, np.array(labels))\n",
    "\n",
    "#Save model\n",
    "hog = cv2.HOGDescriptor()\n",
    "hog.setSVMDetector(getHOGDetector(svm))\n",
    "hog.save('myHogPlayerDector.bin')"
   ]
  }
 ],
 "metadata": {
  "kernelspec": {
   "display_name": "Python 3 (ipykernel)",
   "language": "python",
   "name": "python3"
  },
  "language_info": {
   "codemirror_mode": {
    "name": "ipython",
    "version": 3
   },
   "file_extension": ".py",
   "mimetype": "text/x-python",
   "name": "python",
   "nbconvert_exporter": "python",
   "pygments_lexer": "ipython3",
   "version": "3.9.2"
  }
 },
 "nbformat": 4,
 "nbformat_minor": 5
}
